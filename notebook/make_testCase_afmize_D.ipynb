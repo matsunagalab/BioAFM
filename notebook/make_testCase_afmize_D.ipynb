{
 "cells": [
  {
   "cell_type": "code",
   "execution_count": 1,
   "metadata": {},
   "outputs": [
    {
     "name": "stderr",
     "output_type": "stream",
     "text": [
      "┌ Info: Precompiling MDToolbox [7965e2f0-a35b-11e8-0207-19c030dd2def]\n",
      "└ @ Base loading.jl:1260\n",
      "┌ Warning: Package MDToolbox does not have CuArrays in its dependencies:\n",
      "│ - If you have MDToolbox checked out for development and have\n",
      "│   added CuArrays as a dependency but haven't updated your primary\n",
      "│   environment's manifest file, try `Pkg.resolve()`.\n",
      "│ - Otherwise you may need to report an issue with MDToolbox\n",
      "└ Loading CuArrays into MDToolbox from project dependency, future warnings for MDToolbox are suppressed.\n"
     ]
    },
    {
     "data": {
      "text/plain": [
       "afmize_beta (generic function with 1 method)"
      ]
     },
     "execution_count": 1,
     "metadata": {},
     "output_type": "execute_result"
    }
   ],
   "source": [
    "include(\"include.jl\")"
   ]
  },
  {
   "cell_type": "code",
   "execution_count": 4,
   "metadata": {},
   "outputs": [],
   "source": [
    "function create_image(pdbFileNum, quatenionNum, saveFileName, config)\n",
    "    # read structure and remove center of mass\n",
    "    pdb = MDToolbox.readpdb(\"../model/0000$(pdbFileNum).pdb\")\n",
    "    MDToolbox.decenter!(pdb)\n",
    "\n",
    "    # read quaternions\n",
    "    quater = DelimitedFiles.readdlm(\"../quaternion/QUATERNION_LIST_576_Orient\")\n",
    "\n",
    "    # rotate by to a quaternion value\n",
    "    pdb_rotated = MDToolbox.rotate(pdb, quater[quatenionNum, :])\n",
    "    afmData = afmize_beta(pdb_rotated, config)\n",
    "    \n",
    "    @save saveFileName afmData\n",
    "    return heatmap(afmData)\n",
    "end\n",
    "\n",
    "pdbFiles = [1 2 3 4]\n",
    "quatenionNums = [7, 52, 91, 500]\n",
    "fileNameList = []\n",
    "plts = []\n",
    "config = AfmizeConfig(10.0 * (pi / 180),\n",
    "                        10.0, \n",
    "                        Point2D(-85, -85), \n",
    "                        Point2D(115, 115), \n",
    "                        Point2D(10, 10), \n",
    "                        defaultParameters())\n",
    "\n",
    "for i in 1:4\n",
    "    saveFileName = @sprintf \"testCase/afmize_displace_pdb%02d_quaternion%04d.jld2\" pdbFiles[i] quatenionNums[i]\n",
    "    push!(plts, create_image(pdbFiles[i], quatenionNums[i], saveFileName, config))\n",
    "    push!(fileNameList, saveFileName)\n",
    "end\n",
    "@save \"testCase/fileNameList3.jld2\" fileNameList"
   ]
  },
  {
   "cell_type": "code",
   "execution_count": 5,
   "metadata": {},
   "outputs": [],
   "source": [
    "pdbFiles = [1 2 3 4]\n",
    "quatenionNums = [367, 52, 219, 433]\n",
    "fileNameList = []\n",
    "plts = []\n",
    "config = AfmizeConfig(10.0 * (pi / 180),\n",
    "                        10.0, \n",
    "                        Point2D(-80, -80), \n",
    "                        Point2D(120, 120), \n",
    "                        Point2D(10, 10), \n",
    "                        defaultParameters())\n",
    "\n",
    "for i in 1:4\n",
    "    saveFileName = @sprintf \"testCase/afmize_displace2_pdb%02d_quaternion%04d.jld2\" pdbFiles[i] quatenionNums[i]\n",
    "    push!(plts, create_image(pdbFiles[i], quatenionNums[i], saveFileName, config))\n",
    "    push!(fileNameList, saveFileName)\n",
    "end\n",
    "@save \"testCase/fileNameList4.jld2\" fileNameList"
   ]
  },
  {
   "cell_type": "code",
   "execution_count": null,
   "metadata": {},
   "outputs": [],
   "source": []
  }
 ],
 "metadata": {
  "kernelspec": {
   "display_name": "Julia 1.4.0",
   "language": "julia",
   "name": "julia-1.4"
  },
  "language_info": {
   "file_extension": ".jl",
   "mimetype": "application/julia",
   "name": "julia",
   "version": "1.4.0"
  }
 },
 "nbformat": 4,
 "nbformat_minor": 4
}
