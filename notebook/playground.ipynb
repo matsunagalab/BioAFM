{
 "cells": [
  {
   "cell_type": "code",
   "execution_count": 7,
   "metadata": {},
   "outputs": [
    {
     "data": {
      "text/plain": [
       "\"高速化前\\n\\nfunction afmize_beta(tra::TrjArray, config::AfmizeConfig)\\n    message = checkConfig(tra, config)\\n    if !isnothing(message)\\n        println(message)\\n        return zeros(1, 1)\\n    end\\n    \\n    width = floor(Int, (config.range_max.x - config.range_min.x) / config.resolution.x)\\n    height = floor(Int, (config.range_max.y - config.range_min.y) / config.resolution.y)\\n    atoms = [Sphere(tra.x[i], tra.y[i], tra.z[i], \\n            config.atomRadiusDict[tra.atomname[i]]) for i in 1:tra.natom]\\n    moveBottom(atoms)\\n\\n    stage = zeros(height, width)\\n    \\n    for h in 1:height, w in 1:width\\n        probe = Probe(config.range_min.x + (w-0.5) * config.resolution.x, \\n                      config.range_min.y + (h-0.5) * config.resolution.y, \\n                      config.probeRadius, config.probeAngle)\\n        for atom in atoms\\n            stage[h, w] = max(stage[h, w], calcCollisionAsSphere(probe, atom))\\n            stage[h, w] = max(stage[h, w], calcCollisionAsCircularThrusters(probe, atom))\\n        end\\n    end\\n    \\n    return stage\\nend\\n\""
      ]
     },
     "execution_count": 7,
     "metadata": {},
     "output_type": "execute_result"
    }
   ],
   "source": [
    "include(\"include.jl\")"
   ]
  },
  {
   "cell_type": "code",
   "execution_count": 8,
   "metadata": {},
   "outputs": [
    {
     "data": {
      "text/plain": [
       "BenchmarkTools.Trial: \n",
       "  memory estimate:  5.75 MiB\n",
       "  allocs estimate:  252547\n",
       "  --------------\n",
       "  minimum time:     14.527 ms (0.00% GC)\n",
       "  median time:      15.769 ms (0.00% GC)\n",
       "  mean time:        16.455 ms (4.89% GC)\n",
       "  maximum time:     24.225 ms (31.21% GC)\n",
       "  --------------\n",
       "  samples:          304\n",
       "  evals/sample:     1"
      ]
     },
     "execution_count": 8,
     "metadata": {},
     "output_type": "execute_result"
    }
   ],
   "source": [
    "pdb = MDToolbox.readpdb(\"../model/00001.pdb\")\n",
    "@benchmark afmize_beta(pdb, defaultConfig())"
   ]
  },
  {
   "cell_type": "code",
   "execution_count": null,
   "metadata": {},
   "outputs": [],
   "source": []
  },
  {
   "cell_type": "code",
   "execution_count": null,
   "metadata": {},
   "outputs": [],
   "source": []
  }
 ],
 "metadata": {
  "kernelspec": {
   "display_name": "Julia 1.4.0",
   "language": "julia",
   "name": "julia-1.4"
  },
  "language_info": {
   "file_extension": ".jl",
   "mimetype": "application/julia",
   "name": "julia",
   "version": "1.4.0"
  }
 },
 "nbformat": 4,
 "nbformat_minor": 4
}
