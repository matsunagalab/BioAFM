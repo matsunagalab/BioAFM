{
 "cells": [
  {
   "cell_type": "code",
   "execution_count": 3,
   "metadata": {},
   "outputs": [
    {
     "ename": "ErrorException",
     "evalue": "could not open file /data/seica/BioAFM/include.jl",
     "output_type": "error",
     "traceback": [
      "could not open file /data/seica/BioAFM/include.jl",
      "",
      "Stacktrace:",
      " [1] include(::String) at ./client.jl:439",
      " [2] top-level scope at In[3]:2"
     ]
    }
   ],
   "source": [
    "using Revise, MDToolbox, Plots, JLD2, Printf, DelimitedFiles\n",
    "include(\"include.jl\")"
   ]
  },
  {
   "cell_type": "code",
   "execution_count": 2,
   "metadata": {},
   "outputs": [
    {
     "ename": "ArgumentError",
     "evalue": "ArgumentError: Cannot open '../quaternion/QUATERNION_LIST_576_Orient': not a file",
     "output_type": "error",
     "traceback": [
      "ArgumentError: Cannot open '../quaternion/QUATERNION_LIST_576_Orient': not a file",
      "",
      "Stacktrace:",
      " [1] readdlm_auto(::String, ::Char, ::Type{T} where T, ::Char, ::Bool; opts::Base.Iterators.Pairs{Union{},Union{},Tuple{},NamedTuple{(),Tuple{}}}) at /buildworker/worker/package_linux64/build/usr/share/julia/stdlib/v1.4/DelimitedFiles/src/DelimitedFiles.jl:233",
      " [2] readdlm_auto at /buildworker/worker/package_linux64/build/usr/share/julia/stdlib/v1.4/DelimitedFiles/src/DelimitedFiles.jl:233 [inlined]",
      " [3] #readdlm#5 at /buildworker/worker/package_linux64/build/usr/share/julia/stdlib/v1.4/DelimitedFiles/src/DelimitedFiles.jl:170 [inlined]",
      " [4] readdlm at /buildworker/worker/package_linux64/build/usr/share/julia/stdlib/v1.4/DelimitedFiles/src/DelimitedFiles.jl:170 [inlined]",
      " [5] #readdlm#3 at /buildworker/worker/package_linux64/build/usr/share/julia/stdlib/v1.4/DelimitedFiles/src/DelimitedFiles.jl:118 [inlined]",
      " [6] readdlm(::String) at /buildworker/worker/package_linux64/build/usr/share/julia/stdlib/v1.4/DelimitedFiles/src/DelimitedFiles.jl:118",
      " [7] top-level scope at In[2]:35"
     ]
    }
   ],
   "source": [
    "function BioAFM_Quate_Displa(observedAfm, pdbList, quateList, sigma)::BioAFMResult\n",
    "    imgH, imgW = size(observedAfm)\n",
    "    pdbNum = size(pdbList, 1)\n",
    "    quateNum = size(quateList, 1)\n",
    "    posteriors = Float64[]\n",
    "    mostPlausible = Float64(0)\n",
    "    mostPlausiblePDB = Int(0)\n",
    "    mostPlausibleQuate = Int(0)\n",
    "\n",
    "    for pdbId in 1:pdbNum\n",
    "        sumPlausible = Float64(0)\n",
    "        for quateId in 1:quateNum\n",
    "            nowPlausible = Float64(0)\n",
    "            calAfmWide = zeros(Float64, 3imgH, 3imgW)\n",
    "            pdbRotated = MDToolbox.rotate(pdbList[pdbId], quateList[quateId, :])\n",
    "            calAfmWide[imgH+1:2imgH, imgW+1:2imgW] = MDToolbox.afmize(pdbRotated, (150.0, 150.0), (imgH, imgW))\n",
    "            \n",
    "            for H in round(Int, imgH/2):round(Int, 3imgH/2), W in round(Int, imgW/2):round(Int, 3imgW/2)\n",
    "                calculatedAfm = view(calAfmWide, H:(H+imgH-1), W:(W+imgW-1))\n",
    "                nowPlausible += gaussian(calculatedAfm, observedAfm, sigma)\n",
    "            end\n",
    "            \n",
    "            sumPlausible += nowPlausible\n",
    "            if mostPlausible < nowPlausible\n",
    "                mostPlausible = nowPlausible\n",
    "                mostPlausiblePDB = pdbId\n",
    "                mostPlausibleQuate = quateId\n",
    "            end\n",
    "        end\n",
    "        push!(posteriors, sumPlausible)\n",
    "    end\n",
    "    posteriors ./= sum(posteriors)\n",
    "    return BioAFMResult(posteriors, mostPlausiblePDB, mostPlausibleQuate)\n",
    "end\n",
    "\n",
    "quateList = DelimitedFiles.readdlm(\"../quaternion/QUATERNION_LIST_576_Orient\")\n",
    "pdbList = [MDToolbox.readpdb(\"../model/0000$(i).pdb\") for i in 1:4]\n",
    "MDToolbox.decenter!.(pdbList)\n",
    "@load \"./testCase/fileNameList.jld2\" fileNameList\n",
    "\n",
    "resultList = BioAFMResult[]\n",
    "afmDatas = []\n",
    "\n",
    "for fileName in fileNameList\n",
    "    @load fileName afmData\n",
    "    @time result = BioAFM_Quate_Displa(afmData, pdbList, quateList, 10)\n",
    "    push!(afmDatas, afmData)\n",
    "    push!(resultList, result)\n",
    "end\n",
    "\n",
    "plotPredictResult(afmDatas, resultList)"
   ]
  },
  {
   "cell_type": "code",
   "execution_count": null,
   "metadata": {},
   "outputs": [],
   "source": []
  }
 ],
 "metadata": {
  "kernelspec": {
   "display_name": "Julia 1.4.0",
   "language": "julia",
   "name": "julia-1.4"
  },
  "language_info": {
   "file_extension": ".jl",
   "mimetype": "application/julia",
   "name": "julia",
   "version": "1.4.0"
  }
 },
 "nbformat": 4,
 "nbformat_minor": 4
}
