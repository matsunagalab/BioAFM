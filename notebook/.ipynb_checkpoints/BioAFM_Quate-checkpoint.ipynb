{
 "cells": [
  {
   "cell_type": "code",
   "execution_count": 1,
   "metadata": {},
   "outputs": [
    {
     "name": "stderr",
     "output_type": "stream",
     "text": [
      "┌ Info: Precompiling MDToolbox [7965e2f0-a35b-11e8-0207-19c030dd2def]\n",
      "└ @ Base loading.jl:1260\n",
      "┌ Warning: Package MDToolbox does not have CuArrays in its dependencies:\n",
      "│ - If you have MDToolbox checked out for development and have\n",
      "│   added CuArrays as a dependency but haven't updated your primary\n",
      "│   environment's manifest file, try `Pkg.resolve()`.\n",
      "│ - Otherwise you may need to report an issue with MDToolbox\n",
      "└ Loading CuArrays into MDToolbox from project dependency, future warnings for MDToolbox are suppressed.\n"
     ]
    },
    {
     "data": {
      "text/plain": [
       "BioAFMResult"
      ]
     },
     "execution_count": 1,
     "metadata": {},
     "output_type": "execute_result"
    }
   ],
   "source": [
    "using Revise, MDToolbox, Plots, JLD2, Printf, DelimitedFiles\n",
    "include(\"include.jl\")"
   ]
  },
  {
   "cell_type": "code",
   "execution_count": 5,
   "metadata": {},
   "outputs": [
    {
     "ename": "SystemError",
     "evalue": "SystemError: opening file \"./testcase/fileNameList.jld2\": そのようなファイルやディレクトリはありません",
     "output_type": "error",
     "traceback": [
      "SystemError: opening file \"./testcase/fileNameList.jld2\": そのようなファイルやディレクトリはありません",
      "",
      "Stacktrace:",
      " [1] systemerror(::String, ::Int32; extrainfo::Nothing) at ./error.jl:168",
      " [2] #systemerror#50 at ./error.jl:167 [inlined]",
      " [3] systemerror at ./error.jl:167 [inlined]",
      " [4] open(::String; read::Bool, write::Bool, create::Bool, truncate::Bool, append::Bool) at ./iostream.jl:254",
      " [5] JLD2.MmapIO(::String, ::Bool, ::Bool, ::Bool) at /opt/julia_depot/packages/JLD2/hB4ya/src/mmapio.jl:100",
      " [6] openfile at /opt/julia_depot/packages/JLD2/hB4ya/src/JLD2.jl:194 [inlined]",
      " [7] jldopen(::String, ::Bool, ::Bool, ::Bool, ::Type{JLD2.MmapIO}; compress::Bool, mmaparrays::Bool) at /opt/julia_depot/packages/JLD2/hB4ya/src/JLD2.jl:231",
      " [8] jldopen at /opt/julia_depot/packages/JLD2/hB4ya/src/JLD2.jl:203 [inlined] (repeats 2 times)",
      " [9] jldopen(::String, ::String; kwargs::Base.Iterators.Pairs{Union{},Union{},Tuple{},NamedTuple{(),Tuple{}}}) at /opt/julia_depot/packages/JLD2/hB4ya/src/JLD2.jl:293",
      " [10] jldopen at /opt/julia_depot/packages/JLD2/hB4ya/src/JLD2.jl:288 [inlined] (repeats 2 times)",
      " [11] jldopen(::var\"#13#14\", ::String; kws::Base.Iterators.Pairs{Union{},Union{},Tuple{},NamedTuple{(),Tuple{}}}) at /opt/julia_depot/packages/JLD2/hB4ya/src/loadsave.jl:2",
      " [12] jldopen(::Function, ::String) at /opt/julia_depot/packages/JLD2/hB4ya/src/loadsave.jl:2",
      " [13] top-level scope at /opt/julia_depot/packages/JLD2/hB4ya/src/loadsave.jl:111",
      " [14] top-level scope at In[5]:33"
     ]
    }
   ],
   "source": [
    "function BioAFM_Quate(afmData, pdbList, quateList, sigma)::BioAFMResult\n",
    "    imgHeight, imgWidth = size(afmData)\n",
    "    pdbNum = size(pdbList, 1)\n",
    "    quateNum = size(quateList, 1)\n",
    "    posteriors = Float64[]\n",
    "    mostPlausible = Float64(0)\n",
    "    mostPlausiblePDB = Int(0)\n",
    "    mostPlausibleQuate = Int(0)\n",
    "\n",
    "    for pdbId in 1:pdbNum\n",
    "        sumPlausible = Float64(0)\n",
    "        for quateId in 1:quateNum\n",
    "\n",
    "            pdbRotated = MDToolbox.rotate(pdbList[pdbId], quateList[quateId, :])\n",
    "            nowAfmData = MDToolbox.afmize(pdbRotated, (150.0, 150.0), (imgHeight, imgWidth))\n",
    "            nowPlausible = gaussian(nowAfmData, afmData, sigma)\n",
    "            sumPlausible += nowPlausible\n",
    "            if mostPlausible < nowPlausible\n",
    "                mostPlausible = nowPlausible\n",
    "                mostPlausiblePDB = pdbId\n",
    "                mostPlausibleQuate = quateId\n",
    "            end\n",
    "        end\n",
    "        push!(posteriors, sumPlausible)\n",
    "    end\n",
    "    posteriors ./= sum(posteriors)\n",
    "    return BioAFMResult(posteriors, mostPlausiblePDB, mostPlausibleQuate)\n",
    "end\n",
    "\n",
    "quateList = DelimitedFiles.readdlm(\"../quaternion/QUATERNION_LIST_576_Orient\")\n",
    "pdbList = [MDToolbox.readpdb(\"../model/0000$(i).pdb\") for i in 1:4]\n",
    "MDToolbox.decenter!.(pdbList)\n",
    "@load \"./testCase/fileNameList.jld2\" fileNameList\n",
    "\n",
    "resultList = BioAFMResult[]\n",
    "afmDatas = []\n",
    "for fileName in fileNameList\n",
    "    @load fileName afmData\n",
    "    @time result = BioAFM_Quate(afmData, pdbList, quateList, 10)\n",
    "    push!(afmDatas, afmData)\n",
    "    push!(resultList, result)\n",
    "end\n",
    "\n",
    "plotPredictResult(afmDatas, resultList)"
   ]
  },
  {
   "cell_type": "code",
   "execution_count": null,
   "metadata": {},
   "outputs": [],
   "source": []
  }
 ],
 "metadata": {
  "kernelspec": {
   "display_name": "Julia 1.4.0",
   "language": "julia",
   "name": "julia-1.4"
  },
  "language_info": {
   "file_extension": ".jl",
   "mimetype": "application/julia",
   "name": "julia",
   "version": "1.4.0"
  }
 },
 "nbformat": 4,
 "nbformat_minor": 4
}
